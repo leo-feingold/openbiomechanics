{
 "cells": [
  {
   "cell_type": "code",
   "execution_count": 15,
   "metadata": {},
   "outputs": [],
   "source": [
    "# import libraries\n",
    "import ezc3d\n",
    "import numpy as np\n",
    "import matplotlib.pyplot as plt\n",
    "from mpl_toolkits.mplot3d import Axes3D\n",
    "import matplotlib.animation as animation"
   ]
  },
  {
   "cell_type": "code",
   "execution_count": 16,
   "metadata": {},
   "outputs": [],
   "source": [
    "# load the C3D file\n",
    "#c = ezc3d.c3d('/Users/leofeingold/Documents/GitHub/openbiomechanics/baseball_hitting/data/c3d/000004/000004_000103_75_236_R_003_972.c3d')\n",
    "c = ezc3d.c3d(\"/Users/leofeingold/Documents/GitHub/openbiomechanics/baseball_hitting/data/c3d/000059/000059_000017_67_179_R_006_974.c3d\")"
   ]
  },
  {
   "cell_type": "code",
   "execution_count": 17,
   "metadata": {},
   "outputs": [
    {
     "name": "stdout",
     "output_type": "stream",
     "text": [
      "dict_keys(['header', 'parameters', 'data'])\n"
     ]
    }
   ],
   "source": [
    "# variable c is now a c3d object with keys and values. We can examine its first level of structure using the command c.keys()\n",
    "print(c.keys())"
   ]
  },
  {
   "cell_type": "code",
   "execution_count": 18,
   "metadata": {},
   "outputs": [
    {
     "name": "stdout",
     "output_type": "stream",
     "text": [
      "dict_keys(['points', 'analogs', 'events'])\n"
     ]
    }
   ],
   "source": [
    "#We can access one level deeper within our c3d object by reusing the keys() command on one of our three substructures:\n",
    "print(c['header'].keys())"
   ]
  },
  {
   "cell_type": "code",
   "execution_count": 19,
   "metadata": {},
   "outputs": [
    {
     "name": "stdout",
     "output_type": "stream",
     "text": [
      "dict_keys(['size', 'frame_rate', 'first_frame', 'last_frame'])\n"
     ]
    }
   ],
   "source": [
    "#We can access deeper and deeper levels of nesting by adding dictionary keys together:\n",
    "print(c['header']['points'].keys())"
   ]
  },
  {
   "cell_type": "code",
   "execution_count": 20,
   "metadata": {},
   "outputs": [
    {
     "name": "stdout",
     "output_type": "stream",
     "text": [
      "55 <class 'int'>\n"
     ]
    }
   ],
   "source": [
    "#Eventually, we’ll run out of nested levels and arrive at the actual data. Once we get to the bottom level, the keys() command will no longer work:\n",
    "# uncomment the following line to see the error.\n",
    "#print(c['header']['points']['size'].keys())\n",
    "\n",
    "#The above error means that whatever is in c['header']['points']['size'] isn’t a dictionary. If we take away the keys() command, we can see what’s there:\n",
    "x = c['header']['points']['size']\n",
    "print(x, type(x))"
   ]
  },
  {
   "cell_type": "code",
   "execution_count": 21,
   "metadata": {},
   "outputs": [],
   "source": [
    "# The above code shows that c['header']['points']['size'] housed an integer; specifically, 45.\n",
    "#  This happens to be the number of markers in our markerset.\n",
    "\n",
    "num_markers = c['header']['points']['size']"
   ]
  },
  {
   "cell_type": "code",
   "execution_count": 22,
   "metadata": {},
   "outputs": [
    {
     "name": "stdout",
     "output_type": "stream",
     "text": [
      "Marker Data Frame Rate: 360.0\n",
      "Number of Frames in Marker Data: 649\n",
      "Analog Data Frame Rate: 360.0\n",
      "Number of Frames in Analog Data: 649\n",
      "Total Time (Markers): 1.8\n",
      "Total Time (Analog): 1.8\n"
     ]
    }
   ],
   "source": [
    "meta_data_marker = c['header']['points']\n",
    "meta_data_analog = c['header']['analogs']\n",
    "\n",
    "# define marker measurement rate and number of frames\n",
    "\n",
    "# the frame rate for the marker data\n",
    "fs_marker = meta_data_marker['frame_rate']\n",
    "print(f\"Marker Data Frame Rate: {fs_marker}\")\n",
    "\n",
    "# the number of frames in marker data\n",
    "num_frames_marker = meta_data_marker['last_frame'] - meta_data_marker['first_frame'] \n",
    "print(f\"Number of Frames in Marker Data: {num_frames_marker}\")\n",
    "\n",
    "# define analog measurement rate and number of frames\n",
    "\n",
    "# the frame rate for the analog data\n",
    "fs_analog = meta_data_analog['frame_rate']\n",
    "print(f\"Analog Data Frame Rate: {fs_analog}\")\n",
    "\n",
    "# the number of frames in analog data\n",
    "num_frames_analog = meta_data_analog['last_frame'] - meta_data_analog['first_frame']\n",
    "print(f\"Number of Frames in Analog Data: {num_frames_analog}\")\n",
    "\n",
    "# create time vectors for marker and analog data\n",
    "'''\n",
    "np.arrange --> np.arange(start, stop, step) --> create an array of different times of each frame\n",
    "start = 0,\n",
    "stop = the last second, calculated by doing number of frames/frame rate. Think about the units, frames/(frames/sec) --> simplifies to just seconds\n",
    "step = the difference between each interval. We use 1/frame rate so that each value in the array corresponds to a specific frame. \n",
    "'''\n",
    "\n",
    "time_marker = np.arange(0, num_frames_marker/fs_marker, 1/fs_marker)\n",
    "time_analog = np.arange(0, num_frames_analog/fs_analog, 1/fs_analog)\n",
    "\n",
    "print(f\"Total Time (Markers): {time_marker[-1]}\")\n",
    "print(f\"Total Time (Analog): {time_analog[-1]}\")\n"
   ]
  },
  {
   "cell_type": "code",
   "execution_count": 23,
   "metadata": {},
   "outputs": [
    {
     "name": "stdout",
     "output_type": "stream",
     "text": [
      "dict_keys(['type', 'description', 'is_locked', 'value'])\n",
      "['C7', 'CLAV', 'LANK', 'LASI', 'LBHD']\n"
     ]
    }
   ],
   "source": [
    "# look at labels\n",
    "# notice the extra dictionary key 'value'\n",
    "print(c['parameters']['POINT']['LABELS'].keys())\n",
    "\n",
    "# 'LABELS' by itself returns yet another dictionary so we need to go one level deeper\n",
    "marker_labels = c['parameters']['POINT']['LABELS']['value']\n",
    "\n",
    "# print first few labels\n",
    "print(marker_labels[0:5])"
   ]
  },
  {
   "cell_type": "code",
   "execution_count": 24,
   "metadata": {},
   "outputs": [],
   "source": [
    "# numpy array (4 x number of markers x number of marker frames)\n",
    "d_point = c['data']['points']\n",
    "\n",
    "# numpy array (1 x 6*number of force plates x number of analog frames)\n",
    "d_analog = c['data']['analogs']"
   ]
  },
  {
   "cell_type": "code",
   "execution_count": 25,
   "metadata": {},
   "outputs": [
    {
     "name": "stdout",
     "output_type": "stream",
     "text": [
      "46\n",
      "[[-0.51991916 -0.51980704 -0.51964939 ... -0.26959035 -0.27008298\n",
      "  -0.26979601]\n",
      " [ 0.44931903  0.44928163  0.44919753 ...  0.14860053  0.14738573\n",
      "   0.14473689]\n",
      " [ 1.3272897   1.32723534  1.3271358  ...  1.26615715  1.26628506\n",
      "   1.2674011 ]\n",
      " [ 1.          1.          1.         ...  1.          1.\n",
      "   1.        ]]\n"
     ]
    }
   ],
   "source": [
    "# assign marker labels\n",
    "marker_labels = c['parameters']['POINT']['LABELS']['value']\n",
    "\n",
    "# specify marker of interest\n",
    "my_marker = 'RSHO' # case sensitive!!!\n",
    "\n",
    "# find index of our marker in marker_labels\n",
    "marker_idx = marker_labels.index(my_marker)\n",
    "\n",
    "print(marker_idx)\n",
    "\n",
    "# assign RSHO data\n",
    "d_RSHO = d_point[:, marker_idx, :]\n",
    "print(d_RSHO)"
   ]
  },
  {
   "cell_type": "code",
   "execution_count": 26,
   "metadata": {},
   "outputs": [
    {
     "name": "stdout",
     "output_type": "stream",
     "text": [
      "['C7', 'CLAV', 'LANK', 'LASI', 'LBHD', 'LELB', 'LFHD', 'LFIN', 'LFRM', 'LHEE', 'LKNE', 'LMANK', 'LMELB', 'LMKNE', 'LPSI', 'LSHO', 'LTHI', 'LTIB', 'LTOE', 'LUPA', 'LWRA', 'LWRB', 'Marker1', 'Marker10', 'Marker2', 'Marker3', 'Marker4', 'Marker5', 'Marker6', 'Marker7', 'Marker8', 'Marker9', 'RANK', 'RASI', 'RBAK', 'RBHD', 'RELB', 'RFHD', 'RFIN', 'RFRM', 'RHEE', 'RKNE', 'RMANK', 'RMELB', 'RMKNE', 'RPSI', 'RSHO', 'RTHI', 'RTIB', 'RTOE', 'RUPA', 'RWRA', 'RWRB', 'STRN', 'T10']\n"
     ]
    }
   ],
   "source": [
    "print(c['parameters']['POINT']['LABELS']['value'])"
   ]
  }
 ],
 "metadata": {
  "kernelspec": {
   "display_name": "Python 3.11.7 ('base')",
   "language": "python",
   "name": "python3"
  },
  "language_info": {
   "codemirror_mode": {
    "name": "ipython",
    "version": 3
   },
   "file_extension": ".py",
   "mimetype": "text/x-python",
   "name": "python",
   "nbconvert_exporter": "python",
   "pygments_lexer": "ipython3",
   "version": "3.11.7"
  },
  "orig_nbformat": 4,
  "vscode": {
   "interpreter": {
    "hash": "40d3a090f54c6569ab1632332b64b2c03c39dcf918b08424e98f38b5ae0af88f"
   }
  }
 },
 "nbformat": 4,
 "nbformat_minor": 2
}
